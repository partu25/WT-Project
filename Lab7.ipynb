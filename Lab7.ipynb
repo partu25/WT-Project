{
 "cells": [
  {
   "cell_type": "markdown",
   "id": "02b33ee5",
   "metadata": {},
   "source": [
    "<a href='https://www.darshan.ac.in/'> <img src='https://www.darshan.ac.in/Content/media/DU_Logo.svg' width=\"250\" height=\"300\"/></a>\n",
    "<pre>\n",
    "<center><b><h1>Data Mining</b></center>\n",
    "<center><b><h1>Lab - 7 (Part 2)</b></center>    \n",
    "<pre>"
   ]
  },
  {
   "cell_type": "markdown",
   "id": "08f0806f",
   "metadata": {},
   "source": [
    "### Step 1: Load the Dataset\n",
    "Load the `Tdata.csv` file and display the first few rows."
   ]
  },
  {
   "cell_type": "code",
   "execution_count": 1,
   "id": "c163a07f",
   "metadata": {},
   "outputs": [],
   "source": [
    "import pandas as pd\n",
    "import numpy as np"
   ]
  },
  {
   "cell_type": "code",
   "execution_count": 3,
   "id": "dd419a98",
   "metadata": {},
   "outputs": [
    {
     "data": {
      "text/html": [
       "<div>\n",
       "<style scoped>\n",
       "    .dataframe tbody tr th:only-of-type {\n",
       "        vertical-align: middle;\n",
       "    }\n",
       "\n",
       "    .dataframe tbody tr th {\n",
       "        vertical-align: top;\n",
       "    }\n",
       "\n",
       "    .dataframe thead th {\n",
       "        text-align: right;\n",
       "    }\n",
       "</style>\n",
       "<table border=\"1\" class=\"dataframe\">\n",
       "  <thead>\n",
       "    <tr style=\"text-align: right;\">\n",
       "      <th></th>\n",
       "      <th>Transaction</th>\n",
       "      <th>bread</th>\n",
       "      <th>butter</th>\n",
       "      <th>coffee</th>\n",
       "      <th>eggs</th>\n",
       "      <th>jam</th>\n",
       "      <th>milk</th>\n",
       "    </tr>\n",
       "  </thead>\n",
       "  <tbody>\n",
       "    <tr>\n",
       "      <th>0</th>\n",
       "      <td>T1</td>\n",
       "      <td>1</td>\n",
       "      <td>1</td>\n",
       "      <td>0</td>\n",
       "      <td>0</td>\n",
       "      <td>0</td>\n",
       "      <td>1</td>\n",
       "    </tr>\n",
       "    <tr>\n",
       "      <th>1</th>\n",
       "      <td>T2</td>\n",
       "      <td>1</td>\n",
       "      <td>1</td>\n",
       "      <td>0</td>\n",
       "      <td>0</td>\n",
       "      <td>1</td>\n",
       "      <td>0</td>\n",
       "    </tr>\n",
       "    <tr>\n",
       "      <th>2</th>\n",
       "      <td>T3</td>\n",
       "      <td>1</td>\n",
       "      <td>0</td>\n",
       "      <td>0</td>\n",
       "      <td>1</td>\n",
       "      <td>0</td>\n",
       "      <td>1</td>\n",
       "    </tr>\n",
       "    <tr>\n",
       "      <th>3</th>\n",
       "      <td>T4</td>\n",
       "      <td>1</td>\n",
       "      <td>1</td>\n",
       "      <td>0</td>\n",
       "      <td>0</td>\n",
       "      <td>0</td>\n",
       "      <td>1</td>\n",
       "    </tr>\n",
       "    <tr>\n",
       "      <th>4</th>\n",
       "      <td>T5</td>\n",
       "      <td>1</td>\n",
       "      <td>0</td>\n",
       "      <td>1</td>\n",
       "      <td>0</td>\n",
       "      <td>0</td>\n",
       "      <td>0</td>\n",
       "    </tr>\n",
       "    <tr>\n",
       "      <th>5</th>\n",
       "      <td>T6</td>\n",
       "      <td>0</td>\n",
       "      <td>0</td>\n",
       "      <td>1</td>\n",
       "      <td>1</td>\n",
       "      <td>1</td>\n",
       "      <td>0</td>\n",
       "    </tr>\n",
       "  </tbody>\n",
       "</table>\n",
       "</div>"
      ],
      "text/plain": [
       "  Transaction  bread  butter  coffee  eggs  jam  milk\n",
       "0          T1      1       1       0     0    0     1\n",
       "1          T2      1       1       0     0    1     0\n",
       "2          T3      1       0       0     1    0     1\n",
       "3          T4      1       1       0     0    0     1\n",
       "4          T5      1       0       1     0    0     0\n",
       "5          T6      0       0       1     1    1     0"
      ]
     },
     "execution_count": 3,
     "metadata": {},
     "output_type": "execute_result"
    }
   ],
   "source": [
    "dt = pd.read_csv('Tdata.csv')\n",
    "dt"
   ]
  },
  {
   "cell_type": "markdown",
   "id": "3532ee71",
   "metadata": {},
   "source": [
    "### Step 2: Drop the 'Transaction' Column\n",
    "We're only interested in the items (not the transaction IDs)."
   ]
  },
  {
   "cell_type": "code",
   "execution_count": 5,
   "id": "e2575fe6",
   "metadata": {},
   "outputs": [
    {
     "data": {
      "text/html": [
       "<div>\n",
       "<style scoped>\n",
       "    .dataframe tbody tr th:only-of-type {\n",
       "        vertical-align: middle;\n",
       "    }\n",
       "\n",
       "    .dataframe tbody tr th {\n",
       "        vertical-align: top;\n",
       "    }\n",
       "\n",
       "    .dataframe thead th {\n",
       "        text-align: right;\n",
       "    }\n",
       "</style>\n",
       "<table border=\"1\" class=\"dataframe\">\n",
       "  <thead>\n",
       "    <tr style=\"text-align: right;\">\n",
       "      <th></th>\n",
       "      <th>bread</th>\n",
       "      <th>butter</th>\n",
       "      <th>coffee</th>\n",
       "      <th>eggs</th>\n",
       "      <th>jam</th>\n",
       "      <th>milk</th>\n",
       "    </tr>\n",
       "  </thead>\n",
       "  <tbody>\n",
       "    <tr>\n",
       "      <th>0</th>\n",
       "      <td>1</td>\n",
       "      <td>1</td>\n",
       "      <td>0</td>\n",
       "      <td>0</td>\n",
       "      <td>0</td>\n",
       "      <td>1</td>\n",
       "    </tr>\n",
       "    <tr>\n",
       "      <th>1</th>\n",
       "      <td>1</td>\n",
       "      <td>1</td>\n",
       "      <td>0</td>\n",
       "      <td>0</td>\n",
       "      <td>1</td>\n",
       "      <td>0</td>\n",
       "    </tr>\n",
       "    <tr>\n",
       "      <th>2</th>\n",
       "      <td>1</td>\n",
       "      <td>0</td>\n",
       "      <td>0</td>\n",
       "      <td>1</td>\n",
       "      <td>0</td>\n",
       "      <td>1</td>\n",
       "    </tr>\n",
       "    <tr>\n",
       "      <th>3</th>\n",
       "      <td>1</td>\n",
       "      <td>1</td>\n",
       "      <td>0</td>\n",
       "      <td>0</td>\n",
       "      <td>0</td>\n",
       "      <td>1</td>\n",
       "    </tr>\n",
       "    <tr>\n",
       "      <th>4</th>\n",
       "      <td>1</td>\n",
       "      <td>0</td>\n",
       "      <td>1</td>\n",
       "      <td>0</td>\n",
       "      <td>0</td>\n",
       "      <td>0</td>\n",
       "    </tr>\n",
       "    <tr>\n",
       "      <th>5</th>\n",
       "      <td>0</td>\n",
       "      <td>0</td>\n",
       "      <td>1</td>\n",
       "      <td>1</td>\n",
       "      <td>1</td>\n",
       "      <td>0</td>\n",
       "    </tr>\n",
       "  </tbody>\n",
       "</table>\n",
       "</div>"
      ],
      "text/plain": [
       "   bread  butter  coffee  eggs  jam  milk\n",
       "0      1       1       0     0    0     1\n",
       "1      1       1       0     0    1     0\n",
       "2      1       0       0     1    0     1\n",
       "3      1       1       0     0    0     1\n",
       "4      1       0       1     0    0     0\n",
       "5      0       0       1     1    1     0"
      ]
     },
     "execution_count": 5,
     "metadata": {},
     "output_type": "execute_result"
    }
   ],
   "source": [
    "dt1 = dt.iloc[:,1:7]\n",
    "dt1"
   ]
  },
  {
   "cell_type": "markdown",
   "id": "f1f8e5fa",
   "metadata": {},
   "source": [
    "### Step 3: Count Single Items\n",
    "See how many transactions include each item."
   ]
  },
  {
   "cell_type": "code",
   "execution_count": 9,
   "id": "8770cf10",
   "metadata": {},
   "outputs": [
    {
     "data": {
      "text/plain": [
       "bread     5\n",
       "butter    3\n",
       "coffee    2\n",
       "eggs      2\n",
       "jam       2\n",
       "milk      3\n",
       "dtype: int64"
      ]
     },
     "execution_count": 9,
     "metadata": {},
     "output_type": "execute_result"
    }
   ],
   "source": [
    "dt1.sum()"
   ]
  },
  {
   "cell_type": "markdown",
   "id": "06a4f0e5",
   "metadata": {},
   "source": [
    "### Step 4: Define Apriori Function\n",
    "This function finds frequent itemsets of size 1, 2, and 3 with minimum support."
   ]
  },
  {
   "cell_type": "code",
   "execution_count": 22,
   "id": "d11baaab",
   "metadata": {},
   "outputs": [],
   "source": [
    "from itertools import combinations\n",
    "\n",
    "def find_frequnt_itemset(dt1,min_support) :\n",
    "    n=len(dt1)\n",
    "    result=[]\n",
    "    \n",
    "    for k in [1,2,3]:\n",
    "        for items in combinations(dt1.columns,k):\n",
    "            mask = dt1[list(items)].all(axis = 1)\n",
    "            support = mask.sum()/n\n",
    "            print(f\"{frozenset(items)}->{round(support,2)}\")\n",
    "            if support >= min_support:\n",
    "                result.append((frozenset(items),round(support,2)))\n",
    "    return result"
   ]
  },
  {
   "cell_type": "markdown",
   "id": "ec43a005",
   "metadata": {},
   "source": [
    "### Step 5: Run Apriori\n",
    "Set `min_support = 0.6` and display the frequent itemsets."
   ]
  },
  {
   "cell_type": "code",
   "execution_count": 23,
   "id": "c6e33702",
   "metadata": {},
   "outputs": [
    {
     "name": "stdout",
     "output_type": "stream",
     "text": [
      "frozenset({'bread'})->0.83\n",
      "frozenset({'butter'})->0.5\n",
      "frozenset({'coffee'})->0.33\n",
      "frozenset({'eggs'})->0.33\n",
      "frozenset({'jam'})->0.33\n",
      "frozenset({'milk'})->0.5\n",
      "frozenset({'butter', 'bread'})->0.5\n",
      "frozenset({'coffee', 'bread'})->0.17\n",
      "frozenset({'eggs', 'bread'})->0.17\n",
      "frozenset({'jam', 'bread'})->0.17\n",
      "frozenset({'milk', 'bread'})->0.5\n",
      "frozenset({'butter', 'coffee'})->0.0\n",
      "frozenset({'butter', 'eggs'})->0.0\n",
      "frozenset({'butter', 'jam'})->0.17\n",
      "frozenset({'butter', 'milk'})->0.33\n",
      "frozenset({'coffee', 'eggs'})->0.17\n",
      "frozenset({'jam', 'coffee'})->0.17\n",
      "frozenset({'milk', 'coffee'})->0.0\n",
      "frozenset({'jam', 'eggs'})->0.17\n",
      "frozenset({'milk', 'eggs'})->0.17\n",
      "frozenset({'milk', 'jam'})->0.0\n",
      "frozenset({'butter', 'coffee', 'bread'})->0.0\n",
      "frozenset({'butter', 'eggs', 'bread'})->0.0\n",
      "frozenset({'butter', 'jam', 'bread'})->0.17\n",
      "frozenset({'butter', 'milk', 'bread'})->0.33\n",
      "frozenset({'eggs', 'coffee', 'bread'})->0.0\n",
      "frozenset({'jam', 'coffee', 'bread'})->0.0\n",
      "frozenset({'milk', 'coffee', 'bread'})->0.0\n",
      "frozenset({'jam', 'eggs', 'bread'})->0.0\n",
      "frozenset({'milk', 'eggs', 'bread'})->0.17\n",
      "frozenset({'milk', 'jam', 'bread'})->0.0\n",
      "frozenset({'butter', 'coffee', 'eggs'})->0.0\n",
      "frozenset({'butter', 'jam', 'coffee'})->0.0\n",
      "frozenset({'butter', 'milk', 'coffee'})->0.0\n",
      "frozenset({'butter', 'jam', 'eggs'})->0.0\n",
      "frozenset({'butter', 'milk', 'eggs'})->0.0\n",
      "frozenset({'butter', 'milk', 'jam'})->0.0\n",
      "frozenset({'jam', 'coffee', 'eggs'})->0.17\n",
      "frozenset({'milk', 'coffee', 'eggs'})->0.0\n",
      "frozenset({'milk', 'jam', 'coffee'})->0.0\n",
      "frozenset({'milk', 'jam', 'eggs'})->0.0\n"
     ]
    },
    {
     "ename": "TypeError",
     "evalue": "'numpy.float64' object is not callable",
     "output_type": "error",
     "traceback": [
      "\u001b[1;31m---------------------------------------------------------------------------\u001b[0m",
      "\u001b[1;31mTypeError\u001b[0m                                 Traceback (most recent call last)",
      "Cell \u001b[1;32mIn[23], line 4\u001b[0m\n\u001b[0;32m      1\u001b[0m frequent_itemset \u001b[38;5;241m=\u001b[39m find_frequnt_itemset(dt1,min_support\u001b[38;5;241m=\u001b[39m \u001b[38;5;241m0.5\u001b[39m)\n\u001b[0;32m      3\u001b[0m \u001b[38;5;28;01mfor\u001b[39;00m itemset,support \u001b[38;5;129;01min\u001b[39;00m frequent_itemset:\n\u001b[1;32m----> 4\u001b[0m     \u001b[38;5;28mprint\u001b[39m(\u001b[38;5;124mf\u001b[39m\u001b[38;5;124m\"\u001b[39m\u001b[38;5;132;01m{\u001b[39;00m\u001b[38;5;28mset\u001b[39m(itemset)\u001b[38;5;132;01m}\u001b[39;00m\u001b[38;5;124m -> \u001b[39m\u001b[38;5;132;01m{\u001b[39;00msupport(support)\u001b[38;5;132;01m}\u001b[39;00m\u001b[38;5;124m\"\u001b[39m)\n",
      "\u001b[1;31mTypeError\u001b[0m: 'numpy.float64' object is not callable"
     ]
    }
   ],
   "source": [
    "frequent_itemset = find_frequnt_itemset(dt1,min_support= 0.5)\n",
    "\n",
    "for itemset,support in frequent_itemset:\n",
    "    print(f\"{set(itemset)} -> {support(support)}\")"
   ]
  },
  {
   "cell_type": "markdown",
   "id": "0026f6da",
   "metadata": {},
   "source": [
    "### Step 6 Display as a DataFrame"
   ]
  },
  {
   "cell_type": "code",
   "execution_count": 25,
   "id": "2c772d61",
   "metadata": {},
   "outputs": [
    {
     "data": {
      "text/html": [
       "<div>\n",
       "<style scoped>\n",
       "    .dataframe tbody tr th:only-of-type {\n",
       "        vertical-align: middle;\n",
       "    }\n",
       "\n",
       "    .dataframe tbody tr th {\n",
       "        vertical-align: top;\n",
       "    }\n",
       "\n",
       "    .dataframe thead th {\n",
       "        text-align: right;\n",
       "    }\n",
       "</style>\n",
       "<table border=\"1\" class=\"dataframe\">\n",
       "  <thead>\n",
       "    <tr style=\"text-align: right;\">\n",
       "      <th></th>\n",
       "      <th>itemset</th>\n",
       "      <th>support</th>\n",
       "    </tr>\n",
       "  </thead>\n",
       "  <tbody>\n",
       "    <tr>\n",
       "      <th>0</th>\n",
       "      <td>(bread)</td>\n",
       "      <td>0.83</td>\n",
       "    </tr>\n",
       "    <tr>\n",
       "      <th>1</th>\n",
       "      <td>(butter)</td>\n",
       "      <td>0.50</td>\n",
       "    </tr>\n",
       "    <tr>\n",
       "      <th>2</th>\n",
       "      <td>(milk)</td>\n",
       "      <td>0.50</td>\n",
       "    </tr>\n",
       "    <tr>\n",
       "      <th>3</th>\n",
       "      <td>(butter, bread)</td>\n",
       "      <td>0.50</td>\n",
       "    </tr>\n",
       "    <tr>\n",
       "      <th>4</th>\n",
       "      <td>(milk, bread)</td>\n",
       "      <td>0.50</td>\n",
       "    </tr>\n",
       "  </tbody>\n",
       "</table>\n",
       "</div>"
      ],
      "text/plain": [
       "           itemset  support\n",
       "0          (bread)     0.83\n",
       "1         (butter)     0.50\n",
       "2           (milk)     0.50\n",
       "3  (butter, bread)     0.50\n",
       "4    (milk, bread)     0.50"
      ]
     },
     "execution_count": 25,
     "metadata": {},
     "output_type": "execute_result"
    }
   ],
   "source": [
    "result_df = pd.DataFrame(frequent_itemset,columns = ['itemset','support'])\n",
    "result_df"
   ]
  },
  {
   "cell_type": "code",
   "execution_count": null,
   "id": "686950f7",
   "metadata": {},
   "outputs": [],
   "source": []
  },
  {
   "cell_type": "markdown",
   "id": "068f6cea",
   "metadata": {},
   "source": [
    "# Orange Tool : - >Generate Same Frequent Patterns in Orange tools"
   ]
  },
  {
   "cell_type": "code",
   "execution_count": null,
   "id": "76aa891d",
   "metadata": {},
   "outputs": [],
   "source": []
  },
  {
   "cell_type": "markdown",
   "id": "744909d6",
   "metadata": {},
   "source": [
    "# Extra : - >  Define Apriori Function without itertools"
   ]
  },
  {
   "cell_type": "code",
   "execution_count": null,
   "id": "db8ff032",
   "metadata": {},
   "outputs": [],
   "source": []
  },
  {
   "cell_type": "code",
   "execution_count": null,
   "id": "d71a9b00",
   "metadata": {},
   "outputs": [],
   "source": []
  }
 ],
 "metadata": {
  "kernelspec": {
   "display_name": "Python 3 (ipykernel)",
   "language": "python",
   "name": "python3"
  },
  "language_info": {
   "codemirror_mode": {
    "name": "ipython",
    "version": 3
   },
   "file_extension": ".py",
   "mimetype": "text/x-python",
   "name": "python",
   "nbconvert_exporter": "python",
   "pygments_lexer": "ipython3",
   "version": "3.10.9"
  }
 },
 "nbformat": 4,
 "nbformat_minor": 5
}
